{
 "cells": [
  {
   "cell_type": "markdown",
   "metadata": {},
   "source": [
    "# Summary of Model Findings\n",
    "\n",
    "\n",
    "### Introduction\n",
    "For our project, we decided to make a classifier that determines the gender targeting values for an ad. The evaluation metric we used was accuracy, since it seems like the most important job of a classifier: classifying unseen data accurately. We chose to predict the gender targeting of the ad because when we were trying to do linear regression to predict Spend or Impressions, we were unable to improve the accuracy of our prediction in any meaningful way, and most of the other categorical values in the dataset are too often nan for us to have any significant amount of data for testing.\n",
    "\n",
    "### Baseline Model\n",
    "For the baseline, we constructed a DecisionTreeClassifier that looks at the Impression & Spend columns (Which are both quantitative). It was pretty accurate: achieving ~82% accuracy on the test set. We thought that 82% is pretty good, but felt that we could top this accuracy.\n",
    "\n",
    "### Final Model\n",
    "For the final model, we collapsed the two features that the baseline model took in: Impressions & Spend, and we turned them into a single feature: DollarPerView. This feature gives us largely the same info as the columns seperately, reducing the complexity of our model. The second feature that we added is Country which is that 2-letter country code from each row's BillingAddress value. We tried out the RandomForestClassifier as well, but the results were nearly identical, so we stuck with the DTC. We ran a GridSearchCV to optimize the parameter tuning of our model for criterion, max_depth ,min_samples_split & min_samples_leaf, see code below for optimal values. The results were okay: it's ~8% more accurate than the baseline. When we tried running the model with more columns, the noise from them made our accuracy go down.\n",
    "\n",
    "### Fairness Evaluation\n",
    "For the fairness evaluation, we look at whether the DollarPerView value is a spike (which we defined to be outside one standard deviation of average DPV) & evaluate the accuracy of our model to see whether it is systematically misclassifying Spikes.(The parity measure used is accuracy) This showed us that it certainly is misclassyfying spikes, and calls into question our decision to collapse the Impressions & Spend columns"
   ]
  },
  {
   "cell_type": "markdown",
   "metadata": {},
   "source": [
    "# Code"
   ]
  },
  {
   "cell_type": "code",
   "execution_count": 239,
   "metadata": {},
   "outputs": [],
   "source": [
    "import matplotlib.pyplot as plt\n",
    "import numpy as np\n",
    "import os\n",
    "import pandas as pd\n",
    "import seaborn as sns\n",
    "from sklearn import metrics\n",
    "from sklearn.model_selection import train_test_split\n",
    "from sklearn.preprocessing import OneHotEncoder\n",
    "from sklearn.pipeline import Pipeline\n",
    "from sklearn.compose import ColumnTransformer\n",
    "from sklearn.tree import DecisionTreeClassifier\n",
    "%matplotlib inline\n",
    "%config InlineBackend.figure_format = 'retina'  # Higher resolution figures\n",
    "df_18 = pd.read_csv(\"PoliticalAds_18.csv\")\n",
    "df_19 = pd.read_csv(\"PoliticalAds_19.csv\")\n",
    "#adding a year column to both 18 and 19 dataframe that contains the year\n",
    "df_18 = df_18.assign(**{\"Year\": 18})\n",
    "df_19 = df_19.assign(**{\"Year\": 19})\n",
    "#concated the two years of information into one dataframe\n",
    "catted_df = pd.concat([df_18, df_19])\n",
    "#Fill in the gender targeting so that the nan value reflects what it means\n",
    "catted_df['Gender_Filled'] = catted_df['Gender'].fillna('BOTH')\n"
   ]
  },
  {
   "cell_type": "markdown",
   "metadata": {},
   "source": [
    "### Baseline Model"
   ]
  },
  {
   "cell_type": "code",
   "execution_count": 236,
   "metadata": {},
   "outputs": [
    {
     "data": {
      "text/plain": [
       "(('Base test accuracy', 0.8268765133171913), ('Base Train Accuracy', 1.0))"
      ]
     },
     "execution_count": 236,
     "metadata": {},
     "output_type": "execute_result"
    }
   ],
   "source": [
    "lm = DecisionTreeClassifier()\n",
    "X = catted_df.drop([\"Gender_Filled\",\"Gender\"], axis=1)\n",
    "y = catted_df.Gender_Filled\n",
    "X_tr, X_ts, y_tr, y_ts = train_test_split(X, y, test_size=0.25)\n",
    "lm = lm.fit(X_tr[[\"Impressions\",\"Spend\"]],y_tr)\n",
    "num = lm.predict(X_ts[[\"Impressions\",\"Spend\"]])\n",
    "num1 = lm.predict(X_tr[[\"Impressions\",\"Spend\"]])\n",
    "(\n",
    " (\"Base test accuracy\", metrics.accuracy_score(num, y_ts)),\n",
    " (\"Base Train Accuracy\", metrics.accuracy_score(num1, y_tr))\n",
    ")\n"
   ]
  },
  {
   "cell_type": "markdown",
   "metadata": {},
   "source": [
    "### Final Model"
   ]
  },
  {
   "cell_type": "code",
   "execution_count": 240,
   "metadata": {},
   "outputs": [
    {
     "data": {
      "text/plain": [
       "(('pipe train accuracy', 0.899071457408155),\n",
       " ('pipe test accuracy', 0.9128329297820823),\n",
       " ('base train accuracy', 1.0),\n",
       " ('base test accuracy', 0.8353510895883777))"
      ]
     },
     "execution_count": 240,
     "metadata": {},
     "output_type": "execute_result"
    }
   ],
   "source": [
    "#grabbed the countries from the mailing address\n",
    "catted_df = catted_df.assign(**{\"Country\": catted_df['BillingAddress']\n",
    "                                .apply(lambda x: x[-2:])})\n",
    "#changed the start and end date to datetime objects \n",
    "#to be able to look at the data numerically\n",
    "catted_df = catted_df.assign(**{\"StartDate\": pd.to_datetime(catted_df['StartDate'], \n",
    "                                                    infer_datetime_format = True)})\n",
    "catted_df = catted_df.assign(**{\"EndDate\": pd.to_datetime(catted_df['EndDate'], \n",
    "                                                    infer_datetime_format = True)})\n",
    "#created this function that converts the datetime object to a numerical value\n",
    "def to_integer(dt_time):\n",
    "    return 10000000000*dt_time.year + 100000000*dt_time.month + \n",
    "    1000000*dt_time.day + 10000*dt_time.hour + 100*dt_time.minute + dt_time.second\n",
    "#converted all the start and end dates to numerical values\n",
    "catted_df['StartDate'] = catted_df['StartDate'].apply(lambda x: to_integer(x))\n",
    "catted_df['EndDate'] = catted_df['EndDate'].apply(lambda x: to_integer(x))\n",
    "#filled the empty end date values with zero\n",
    "catted_df['EndDate'].fillna(value = 0, inplace = True)\n",
    "catted_df[\"AgeBracket\"] = catted_df[\"AgeBracket\"].fillna(\"All\")\n",
    "catted_df['Continent'] = catted_df['Country'].apply(country_to_continent)\n",
    "catted_df = catted_df.assign(**{\"DollarPerView\": catted_df['Spend'] \n",
    "                              / catted_df['Impressions']})\n",
    "spikes = (catted_df[\"DollarPerView\"] > catted_df[\"DollarPerView\"].mean() \n",
    "          + catted_df[\"DollarPerView\"].std())\n",
    "        |(catted_df[\"DollarPerView\"] < catted_df[\"DollarPerView\"].mean() \n",
    "          - catted_df[\"DollarPerView\"].std())\n",
    "#These are the ads with \"Spikes\" in DPV according to our original analysis \n",
    "catted_df[\"Spikes\"] = spikes\n",
    "\n",
    "X = catted_df.drop([\"Gender_Filled\",\"Gender\"], axis=1)\n",
    "y = catted_df.Gender_Filled\n",
    "\n",
    "X_tr, X_ts, y_tr, y_ts = train_test_split(X, y, test_size=0.25)\n",
    "lm.fit(X_tr[[\"Impressions\",\"Spend\"]],y_tr)\n",
    "cat_feat = [\"Country\"]\n",
    "cat_transformer = Pipeline(steps=[('onehot', OneHotEncoder())])\n",
    "# preprocessing pipeline (put them together)\n",
    "preproc = ColumnTransformer(transformers=[('cat', cat_transformer, cat_feat)])\n",
    "pl = Pipeline(steps=[(\"preproc\", preproc),('regressor', \n",
    "    DecisionTreeClassifier(max_depth=2))])\n",
    "pl.fit(X_tr[[\"Country\",\"DollarPerView\"]], y_tr)\n",
    "resid_test = pl.predict(X_ts[[\"Country\",\"DollarPerView\"]])\n",
    "num = lm.predict(X_ts[[\"Impressions\",\"Spend\"]])\n",
    "num1 = lm.predict(X_tr[[\"Impressions\",\"Spend\"]])\n",
    "resid_train = pl.predict(X_tr[[\"Country\",\"DollarPerView\"]])\n",
    "(\n",
    " ('pipe train accuracy', metrics.accuracy_score(resid_train, y_tr)),\n",
    " ('pipe test accuracy', metrics.accuracy_score(resid_test, y_ts)),\n",
    " (\"base train accuracy\", metrics.accuracy_score(num1, y_tr)),\n",
    " (\"base test accuracy\", metrics.accuracy_score(num, y_ts))\n",
    ")\n"
   ]
  },
  {
   "cell_type": "code",
   "execution_count": 228,
   "metadata": {},
   "outputs": [
    {
     "name": "stdout",
     "output_type": "stream",
     "text": [
      "Fitting 3 folds for each of 1568 candidates, totalling 4704 fits\n"
     ]
    },
    {
     "name": "stderr",
     "output_type": "stream",
     "text": [
      "[Parallel(n_jobs=-1)]: Using backend LokyBackend with 4 concurrent workers.\n",
      "[Parallel(n_jobs=-1)]: Done  68 tasks      | elapsed:    2.4s\n",
      "[Parallel(n_jobs=-1)]: Done 2380 tasks      | elapsed:   13.1s\n",
      "[Parallel(n_jobs=-1)]: Done 4704 out of 4704 | elapsed:   23.7s finished\n"
     ]
    }
   ],
   "source": [
    "from sklearn.model_selection import GridSearchCV\n",
    "#This is to find the optimal paramaters for our DTC\n",
    "tree_para = {\"tree__max_depth\":[2,3,4,5,6,7,8,9,10,11,12,15,20,30,40,None], \n",
    "    'tree__min_samples_split':[2,3,5,7,10,15,20],\n",
    "    'tree__min_samples_leaf':[2,3,5,7,10,15,20],\n",
    "    \"tree__criterion\":[\"gini\",\"entropy\"]}\n",
    "model = GridSearchCV(ps, param_grid=tree_para, cv=3, n_jobs=-1, verbose=1)\n",
    "model = model.fit(X_tr[[\"Country\",\"DollarPerView\"]],y_tr)\n"
   ]
  },
  {
   "cell_type": "code",
   "execution_count": 229,
   "metadata": {},
   "outputs": [
    {
     "data": {
      "text/plain": [
       "{'tree__criterion': 'gini',\n",
       " 'tree__max_depth': 2,\n",
       " 'tree__min_samples_leaf': 2,\n",
       " 'tree__min_samples_split': 2}"
      ]
     },
     "execution_count": 229,
     "metadata": {},
     "output_type": "execute_result"
    }
   ],
   "source": [
    "#Gives us values of optimal params\n",
    "model.best_params_\n"
   ]
  },
  {
   "cell_type": "code",
   "execution_count": 230,
   "metadata": {},
   "outputs": [
    {
     "data": {
      "text/plain": [
       "(('final test', 0.9116222760290557), ('final train', 0.8994751715785224))"
      ]
     },
     "execution_count": 230,
     "metadata": {},
     "output_type": "execute_result"
    }
   ],
   "source": [
    "(\n",
    " (\"final test\", model.score(X_ts[[\"Country\",\"DollarPerView\"]], y_ts)),\n",
    " (\"final train\", model.score(X_tr[[\"Country\",\"DollarPerView\"]], y_tr))\n",
    ")\n"
   ]
  },
  {
   "cell_type": "markdown",
   "metadata": {},
   "source": [
    "This is a nice result, one of the biggest worries with a DTC is overfitting--it's heartening to see that our model has roughly the same accuracy over both test & train sets, this seems to indicate that it's not over fitting to the data in the train."
   ]
  },
  {
   "cell_type": "markdown",
   "metadata": {},
   "source": [
    "### Fairness Evaluation"
   ]
  },
  {
   "cell_type": "markdown",
   "metadata": {},
   "source": [
    "For the Fairness test, we looked at whether the DPV (DollarPerView) column was a spike (which we defined to be outside of the interval mean dpv +/- 1 standard deviation), and whether our predictions was performing accurately on spikes. Hence, the fairness measure here is the simplest to use in a classification task: Accuracy Parity. Let a = .01.\n"
   ]
  },
  {
   "cell_type": "code",
   "execution_count": 232,
   "metadata": {},
   "outputs": [],
   "source": [
    "results = catted_df.drop(\"Gender_Filled\", axis = 1)\n",
    "results[\"prediction\"] = model.predict(results[[\"Country\",\"DollarPerView\"]])\n",
    "results[\"tag\"] = catted_df[\"Gender_Filled\"]\n",
    "obs = results.groupby('Spikes').apply(lambda x: metrics.accuracy_score(x.tag, \n",
    "                                                x.prediction)).diff().iloc[-1]\n",
    "metrs = []\n",
    "for _ in range(1000):\n",
    "    s = (\n",
    "        results[['Spikes', 'prediction', 'tag']]\n",
    "        .assign(Spikes=results.Spikes.sample(frac=1.0, replace=False)\n",
    "        .reset_index(drop=True))\n",
    "        .groupby('Spikes')\n",
    "        .apply(lambda x: metrics.accuracy_score(x.tag, x.prediction))\n",
    "        .diff()\n",
    "        .iloc[-1]\n",
    "    )\n",
    "    metrs.append(s)\n",
    "    "
   ]
  },
  {
   "cell_type": "code",
   "execution_count": 233,
   "metadata": {},
   "outputs": [
    {
     "name": "stdout",
     "output_type": "stream",
     "text": [
      "pval 0.0\n"
     ]
    },
    {
     "data": {
      "image/png": "[encoded data removed]",
      "text/plain": [
       "<Figure size 432x288 with 1 Axes>"
      ]
     },
     "metadata": {
      "image/png": {
       "height": 263,
       "width": 427
      },
      "needs_background": "light"
     },
     "output_type": "display_data"
    }
   ],
   "source": [
    "print(\"pval\", 1 - pd.Series(metrs <= obs).mean())\n",
    "pd.Series(metrs).plot(kind='hist', title='Permutation Test for Gender prediction across Spike/non-spike DPVs')\n",
    "plt.scatter(obs, 0, c='r');\n"
   ]
  },
  {
   "cell_type": "markdown",
   "metadata": {},
   "source": [
    "This Permutation tests tell us that there certainly is a difference in the accuracy of our prediction based on whether or not the value was a spike"
   ]
  }
 ],
 "metadata": {
  "kernelspec": {
   "display_name": "Python 3",
   "language": "python",
   "name": "python3"
  },
  "language_info": {
   "codemirror_mode": {
    "name": "ipython",
    "version": 3
   },
   "file_extension": ".py",
   "mimetype": "text/x-python",
   "name": "python",
   "nbconvert_exporter": "python",
   "pygments_lexer": "ipython3",
   "version": "3.7.4"
  }
 },
 "nbformat": 4,
 "nbformat_minor": 2
}
