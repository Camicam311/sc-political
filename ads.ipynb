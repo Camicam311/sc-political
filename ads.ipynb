{
 "cells": [
  {
   "cell_type": "markdown",
   "metadata": {},
   "source": [
    "# Snapchat Political Ads\n",
    "This project uses political ads data from Snapchat, a popular social media app. Interesting questions to consider include:\n",
    "- What are the most prevalent organizations, advertisers, and ballot candidates in the data? Do you recognize any?\n",
    "- What are the characteristics of ads with a large reach, i.e., many views? What may a campaign consider when maximizing an ad's reach?\n",
    "- What are the characteristics of ads with a smaller reach, i.e., less views? Aside from funding constraints, why might a campaign want to produce an ad with a smaller but more targeted reach?\n",
    "- What are the characteristics of the most expensive ads? If a campaign is limited on advertising funds, what type of ad may the campaign consider?\n",
    "- What groups or regions are targeted frequently? (For example, for single-gender campaigns, are men or women targeted more frequently?) What groups or regions are targeted less frequently? Why? Does this depend on the type of campaign?\n",
    "- Have the characteristics of ads changed over time (e.g. over the past year)?\n",
    "- When is the most common local time of day for an ad's start date? What about the most common day of week? (Make sure to account for time zones for both questions.)\n",
    "\n",
    "### Getting the Data\n",
    "The data and its corresponding data dictionary is downloadable [here](https://www.snap.com/en-US/political-ads/). Download both the 2018 CSV and the 2019 CSV. \n",
    "\n",
    "The CSVs have the same filename; rename the CSVs as needed.\n",
    "\n",
    "Note that the CSVs have the exact same columns and the exact same data dictionaries (`readme.txt`).\n",
    "\n",
    "### Cleaning and EDA\n",
    "- Concatenate the 2018 CSV and the 2019 CSV into one DataFrame so that we have data from both years.\n",
    "- Clean the data.\n",
    "    - Convert `StartDate` and `EndDate` into datetime. Make sure the datetimes are in the correct time zone.\n",
    "- Understand the data in ways relevant to your question using univariate and bivariate analysis of the data as well as aggregations.\n",
    "\n",
    "*Hint 1: What is the \"Z\" at the end of each timestamp?*\n",
    "\n",
    "*Hint 2: `pd.to_datetime` will be useful here. `Series.dt.tz_convert` will be useful if a change in time zone is needed.*\n",
    "\n",
    "*Tip: To visualize geospatial data, consider [Folium](https://python-visualization.github.io/folium/) or another geospatial plotting library.*\n",
    "\n",
    "### Assessment of Missingness\n",
    "Many columns which have `NaN` values may not actually have missing data. How come? In some cases, a null or empty value corresponds to an actual, meaningful value. For example, `readme.txt` states the following about `Gender`:\n",
    "\n",
    ">  Gender - Gender targeting criteria used in the Ad. If empty, then it is targeting all genders\n",
    "\n",
    "In this scenario, an empty `Gender` value (which is read in as `NaN` in pandas) corresponds to \"all genders\".\n",
    "\n",
    "- Refer to the data dictionary to determine which columns do **not** belong to the scenario above. Assess the missingness of one of these columns.\n",
    "\n",
    "### Hypothesis Test / Permutation Test\n",
    "Find a hypothesis test or permutation test to perform. You can use the questions at the top of the notebook for inspiration."
   ]
  },
  {
   "cell_type": "markdown",
   "metadata": {},
   "source": [
    "# Summary of Findings\n",
    "\n",
    "### Introduction\n",
    "TODO\n",
    "\n",
    "### Cleaning and EDA\n",
    "TODO\n",
    "\n",
    "### Assessment of Missingness\n",
    "TODO\n",
    "\n",
    "### Hypothesis Test\n",
    "TODO"
   ]
  },
  {
   "cell_type": "markdown",
   "metadata": {},
   "source": [
    "# Code"
   ]
  },
  {
   "cell_type": "code",
   "execution_count": 2,
   "metadata": {},
   "outputs": [],
   "source": [
    "import matplotlib.pyplot as plt\n",
    "import numpy as np\n",
    "import os\n",
    "import requests\n",
    "import pandas as pd\n",
    "import seaborn as sns\n",
    "%matplotlib inline\n",
    "%config InlineBackend.figure_format = 'retina'  # Higher resolution figures"
   ]
  },
  {
   "cell_type": "code",
   "execution_count": 3,
   "metadata": {},
   "outputs": [],
   "source": [
    "import bs4"
   ]
  },
  {
   "cell_type": "markdown",
   "metadata": {},
   "source": [
    "### Cleaning and EDA"
   ]
  },
  {
   "cell_type": "code",
   "execution_count": 4,
   "metadata": {},
   "outputs": [],
   "source": [
    "#How does political spending on snapchat vary across the world? Is there a tendency for parties of a certain political bent to spend more on snapchat?\n",
    "#Which country costs the most per ad view?\n",
    "#What types of ads/where are genders seperated?\n",
    "#In the US, how does spending vary across election vs non-election years? (I would expect more spending in general and particularly for candidates in election years)\n",
    "# Are ads in certain languages more expensive than others?"
   ]
  },
  {
   "cell_type": "code",
   "execution_count": 5,
   "metadata": {},
   "outputs": [
    {
     "data": {
      "text/plain": [
       "array(['US', 'GB', 'DK', 'CH', 'CA', 'NL', 'AU', 'FR', 'SE', 'IE', 'NO',\n",
       "       'BE', 'ZA', 'KW', 'FI', 'AE', 'AT', 'IN', 'AR', 'DE', 'LT', 'TR'],\n",
       "      dtype=object)"
      ]
     },
     "execution_count": 5,
     "metadata": {},
     "output_type": "execute_result"
    }
   ],
   "source": [
    "#read the files into dataframes\n",
    "df_18 = pd.read_csv(\"PoliticalAds_18.csv\")\n",
    "df_19 = pd.read_csv(\"PoliticalAds_19.csv\")\n",
    "#zips = df_19[\"Targeting Geo - Postal Code\"].dropna()\n",
    "#adding a year column to both 18 and 19 dataframe that contains the year for every political ad\n",
    "df_18 = df_18.assign(**{\"Year\": 18})\n",
    "df_19 = df_19.assign(**{\"Year\": 19})\n",
    "#concated the two years of information into one dataframe\n",
    "catted_df = pd.concat([df_18, df_19])\n",
    "#grabbed the countries from the mailing address and made a new column with this data\n",
    "catted_df = catted_df.assign(**{\"Country\": catted_df['BillingAddress'].apply(lambda x: x[-2:])})\n",
    "#converted the StartDate and EndDate to datetime objects in UTC time to be later used in our analysis\n",
    "catted_df = catted_df.assign(**{\"StartDate\": pd.to_datetime(catted_df['StartDate'], infer_datetime_format = True)})\n",
    "catted_df = catted_df.assign(**{\"EndDate\": pd.to_datetime(catted_df['EndDate'], infer_datetime_format = True)})\n",
    "#found the dollar per view of all the ads\n",
    "catted_df = catted_df.assign(**{\"DollarPerView\": catted_df['Spend'] / catted_df['Impressions']})\n",
    "catted_df[\"Country\"].unique()\n",
    "\n",
    "#T\n",
    "#bs4.BeautifulSoup(requests.get(df[\"CreativeUrl\"][1]).text)#.prettify()"
   ]
  },
  {
   "cell_type": "code",
   "execution_count": null,
   "metadata": {},
   "outputs": [],
   "source": []
  },
  {
   "cell_type": "code",
   "execution_count": null,
   "metadata": {},
   "outputs": [],
   "source": []
  },
  {
   "cell_type": "markdown",
   "metadata": {},
   "source": [
    "### Assessment of Missingness"
   ]
  },
  {
   "cell_type": "code",
   "execution_count": 6,
   "metadata": {
    "ExecuteTime": {
     "end_time": "2019-10-31T23:36:28.662099Z",
     "start_time": "2019-10-31T23:36:28.660016Z"
    }
   },
   "outputs": [
    {
     "data": {
      "text/plain": [
       "{'ADID': 1.0,\n",
       " 'CreativeUrl': 1.0,\n",
       " 'Spend': 1.0,\n",
       " 'Impressions': 1.0,\n",
       " 'StartDate': 1.0,\n",
       " 'EndDate': 0.8013926733272783,\n",
       " 'OrganizationName': 1.0,\n",
       " 'BillingAddress': 1.0,\n",
       " 'CandidateBallotInformation': 0.0681198910081744,\n",
       " 'PayingAdvertiserName': 1.0,\n",
       " 'Gender': 0.09748713290947623,\n",
       " 'AgeBracket': 0.917045110505601,\n",
       " 'CountryCode': 1.0,\n",
       " 'RegionID': 0.3066908870723585,\n",
       " 'ElectoralDistrictID': 0.019679079624583713,\n",
       " 'LatLongRad': 0.0,\n",
       " 'MetroID': 0.05449591280653951,\n",
       " 'Interests': 0.23796548592188918,\n",
       " 'OsType': 0.006357856494096276,\n",
       " 'Segments': 0.66273085074175,\n",
       " 'LocationType': 0.005449591280653951,\n",
       " 'Language': 0.27671813502876175,\n",
       " 'AdvancedDemographics': 0.029064486830154404,\n",
       " 'Targeting Connection Type': 0.0,\n",
       " 'Targeting Carrier (ISP)': 0.0,\n",
       " 'Targeting Geo - Postal Code': 0.12079927338782924,\n",
       " 'CreativeProperties': 0.8041174689676052,\n",
       " 'Year': 1.0,\n",
       " 'Country': 1.0,\n",
       " 'DollarPerView': 1.0}"
      ]
     },
     "execution_count": 6,
     "metadata": {},
     "output_type": "execute_result"
    }
   ],
   "source": [
    "props = {}\n",
    "for col in catted_df.columns:\n",
    "    tot = len(catted_df[col])\n",
    "    non_null = len(catted_df[col].dropna())\n",
    "    props[col] = (non_null / tot)\n",
    "props"
   ]
  },
  {
   "cell_type": "markdown",
   "metadata": {},
   "source": [
    "### Hypothesis Test"
   ]
  },
  {
   "cell_type": "markdown",
   "metadata": {
    "ExecuteTime": {
     "end_time": "2019-10-31T23:36:28.666489Z",
     "start_time": "2019-10-31T23:36:28.664381Z"
    }
   },
   "source": [
    "For our hypothesis test, we are looking within the US across years to determine whether or not the cost of spending per view varies between midterm election years versus nonelection years. In this case, the null hypothesis is that these observations (ad spends) are drawn from the same distribution. The alter"
   ]
  },
  {
   "cell_type": "code",
   "execution_count": 11,
   "metadata": {},
   "outputs": [
    {
     "data": {
      "text/plain": [
       "0.13763840519296563"
      ]
     },
     "execution_count": 11,
     "metadata": {},
     "output_type": "execute_result"
    }
   ],
   "source": [
    "from scipy.stats import ks_2samp\n",
    "us_df = us_df.assign(**{\"ElectionYear\":us_df[\"Year\"].apply(lambda x: True if x == 18 else False)})\n",
    "oks, _ = ks_2samp(us_df.loc[us_df[\"ElectionYear\"], \"DollarPerView\"], us_df.loc[~us_df[\"ElectionYear\"], \"DollarPerView\"])\n",
    "oks"
   ]
  },
  {
   "cell_type": "code",
   "execution_count": 12,
   "metadata": {},
   "outputs": [
    {
     "data": {
      "text/plain": [
       "1.0"
      ]
     },
     "execution_count": 12,
     "metadata": {},
     "output_type": "execute_result"
    }
   ],
   "source": [
    "ks = []\n",
    "# Permutation test using the ks_stat\n",
    "for _ in range(trials):\n",
    "    #shuffle relevant values\n",
    "    shuffled = us_df.sample(frac=1,replace=False).reset_index(drop=True)[\"DollarPerView\"]\n",
    "    samp = us_df.assign(**{\"DollarPerView\":shuffled})\n",
    "    tks, _ = ks_2samp(samp.loc[samp[\"ElectionYear\"], \"DollarPerView\"],samp.loc[~samp[\"ElectionYear\"], \"DollarPerView\"])\n",
    "    ks.append(tks)\n",
    "np.count_nonzero(np.array(ks) >= oks) / len(ks)"
   ]
  },
  {
   "cell_type": "code",
   "execution_count": 9,
   "metadata": {},
   "outputs": [
    {
     "data": {
      "text/plain": [
       "0.78"
      ]
     },
     "execution_count": 9,
     "metadata": {},
     "output_type": "execute_result"
    }
   ],
   "source": [
    "trials = 1000\n",
    "#Permuitation test using absolute difference of means\n",
    "outliers = 0\n",
    "us_df = catted_df.query(\"Country == 'US'\")\n",
    "#limit the numbers to ones within the US\n",
    "obs = us_df.groupby(\"Year\")[\"DollarPerView\"].mean().diff().abs()[19]\n",
    "# Calculate observed difference of means\n",
    "for _ in range(trials):\n",
    "    #shuffle relevant values\n",
    "    shuffled = us_df.sample(frac=1,replace=False).reset_index(drop=True)[\"DollarPerView\"]\n",
    "    #assign the shuffleds to a df\n",
    "    samp = us_df.assign(**{\"DollarPerView\":shuffled})\n",
    "    if samp.groupby(\"Year\")[\"DollarPerView\"].mean().diff().abs()[19] <= obs:\n",
    "        #This calculates the abs diff of means of the sample\n",
    "        outliers += 1\n",
    "outliers/trials\n",
    "#So difference of means does not give me a statistically significant result, \n",
    "#let's see if this was because the test stat fails to pick up the difference, \n",
    "#or they really are drawn from the same distribution"
   ]
  },
  {
   "cell_type": "code",
   "execution_count": 7,
   "metadata": {},
   "outputs": [
    {
     "data": {
      "text/html": [
       "<div>\n",
       "<style scoped>\n",
       "    .dataframe tbody tr th:only-of-type {\n",
       "        vertical-align: middle;\n",
       "    }\n",
       "\n",
       "    .dataframe tbody tr th {\n",
       "        vertical-align: top;\n",
       "    }\n",
       "\n",
       "    .dataframe thead th {\n",
       "        text-align: right;\n",
       "    }\n",
       "</style>\n",
       "<table border=\"1\" class=\"dataframe\">\n",
       "  <thead>\n",
       "    <tr style=\"text-align: right;\">\n",
       "      <th></th>\n",
       "      <th>OrganizationName</th>\n",
       "      <th>CandidateBallotInformation</th>\n",
       "      <th>PayingAdvertiserName</th>\n",
       "    </tr>\n",
       "  </thead>\n",
       "  <tbody>\n",
       "    <tr>\n",
       "      <th>0</th>\n",
       "      <td>GMMB, Inc</td>\n",
       "      <td>NaN</td>\n",
       "      <td>JB for Governor</td>\n",
       "    </tr>\n",
       "    <tr>\n",
       "      <th>1</th>\n",
       "      <td>Revolution Messaging</td>\n",
       "      <td>NaN</td>\n",
       "      <td>Paid for by ReBuild USA</td>\n",
       "    </tr>\n",
       "    <tr>\n",
       "      <th>2</th>\n",
       "      <td>Lockwood Strategy</td>\n",
       "      <td>NaN</td>\n",
       "      <td>Change Now</td>\n",
       "    </tr>\n",
       "    <tr>\n",
       "      <th>3</th>\n",
       "      <td>The Prosper Group</td>\n",
       "      <td>NaN</td>\n",
       "      <td>No On L</td>\n",
       "    </tr>\n",
       "    <tr>\n",
       "      <th>4</th>\n",
       "      <td>Amnesty International UK</td>\n",
       "      <td>NaN</td>\n",
       "      <td>Amnesty International UK</td>\n",
       "    </tr>\n",
       "  </tbody>\n",
       "</table>\n",
       "</div>"
      ],
      "text/plain": [
       "           OrganizationName CandidateBallotInformation  \\\n",
       "0                 GMMB, Inc                        NaN   \n",
       "1      Revolution Messaging                        NaN   \n",
       "2         Lockwood Strategy                        NaN   \n",
       "3         The Prosper Group                        NaN   \n",
       "4  Amnesty International UK                        NaN   \n",
       "\n",
       "       PayingAdvertiserName  \n",
       "0           JB for Governor  \n",
       "1   Paid for by ReBuild USA  \n",
       "2                Change Now  \n",
       "3                   No On L  \n",
       "4  Amnesty International UK  "
      ]
     },
     "execution_count": 7,
     "metadata": {},
     "output_type": "execute_result"
    }
   ],
   "source": [
    "#assessing gender missingness\n",
    "catted_df.groupby('Gender')['Gender'].count()\n",
    "catted_df['Gender'].isna().sum()\n",
    "#assessing age missingness\n",
    "catted_df['AgeBracket'].isna().sum()\n",
    "catted_df[['OrganizationName','CandidateBallotInformation', 'PayingAdvertiserName']].head()"
   ]
  },
  {
   "cell_type": "code",
   "execution_count": 8,
   "metadata": {},
   "outputs": [
    {
     "data": {
      "text/html": [
       "<div>\n",
       "<style scoped>\n",
       "    .dataframe tbody tr th:only-of-type {\n",
       "        vertical-align: middle;\n",
       "    }\n",
       "\n",
       "    .dataframe tbody tr th {\n",
       "        vertical-align: top;\n",
       "    }\n",
       "\n",
       "    .dataframe thead th {\n",
       "        text-align: right;\n",
       "    }\n",
       "</style>\n",
       "<table border=\"1\" class=\"dataframe\">\n",
       "  <thead>\n",
       "    <tr style=\"text-align: right;\">\n",
       "      <th></th>\n",
       "      <th>CreativeUrl</th>\n",
       "      <th>CreativeProperties</th>\n",
       "    </tr>\n",
       "  </thead>\n",
       "  <tbody>\n",
       "    <tr>\n",
       "      <th>0</th>\n",
       "      <td>https://www.snap.com/political-ads/asset/b2c47...</td>\n",
       "      <td>web_view_url:https://iwillvote.com/?state=il</td>\n",
       "    </tr>\n",
       "    <tr>\n",
       "      <th>1</th>\n",
       "      <td>https://www.snap.com/political-ads/asset/affc7...</td>\n",
       "      <td>web_view_url:https://rebuildusa.info/landing-3</td>\n",
       "    </tr>\n",
       "    <tr>\n",
       "      <th>2</th>\n",
       "      <td>https://www.snap.com/political-ads/asset/754f6...</td>\n",
       "      <td>web_view_url:https://action.socalhealthcarecoa...</td>\n",
       "    </tr>\n",
       "    <tr>\n",
       "      <th>3</th>\n",
       "      <td>https://www.snap.com/political-ads/asset/818ae...</td>\n",
       "      <td>web_view_url:https://www.stopmeasurel.com</td>\n",
       "    </tr>\n",
       "    <tr>\n",
       "      <th>4</th>\n",
       "      <td>https://www.snap.com/political-ads/asset/2c264...</td>\n",
       "      <td>web_view_url:https://www.amnesty.org.uk/write-...</td>\n",
       "    </tr>\n",
       "  </tbody>\n",
       "</table>\n",
       "</div>"
      ],
      "text/plain": [
       "                                         CreativeUrl  \\\n",
       "0  https://www.snap.com/political-ads/asset/b2c47...   \n",
       "1  https://www.snap.com/political-ads/asset/affc7...   \n",
       "2  https://www.snap.com/political-ads/asset/754f6...   \n",
       "3  https://www.snap.com/political-ads/asset/818ae...   \n",
       "4  https://www.snap.com/political-ads/asset/2c264...   \n",
       "\n",
       "                                  CreativeProperties  \n",
       "0       web_view_url:https://iwillvote.com/?state=il  \n",
       "1     web_view_url:https://rebuildusa.info/landing-3  \n",
       "2  web_view_url:https://action.socalhealthcarecoa...  \n",
       "3          web_view_url:https://www.stopmeasurel.com  \n",
       "4  web_view_url:https://www.amnesty.org.uk/write-...  "
      ]
     },
     "execution_count": 8,
     "metadata": {},
     "output_type": "execute_result"
    }
   ],
   "source": [
    "catted_df[['CreativeUrl', 'CreativeProperties']].head()"
   ]
  },
  {
   "cell_type": "code",
   "execution_count": null,
   "metadata": {},
   "outputs": [],
   "source": []
  }
 ],
 "metadata": {
  "kernelspec": {
   "display_name": "Python 3",
   "language": "python",
   "name": "python3"
  },
  "language_info": {
   "codemirror_mode": {
    "name": "ipython",
    "version": 3
   },
   "file_extension": ".py",
   "mimetype": "text/x-python",
   "name": "python",
   "nbconvert_exporter": "python",
   "pygments_lexer": "ipython3",
   "version": "3.7.4"
  }
 },
 "nbformat": 4,
 "nbformat_minor": 2
}
