{
 "cells": [
  {
   "cell_type": "markdown",
   "metadata": {},
   "source": [
    "# Summary of Findings\n",
    "\n",
    "### Introduction\n",
    "We chose the ads dataset from snapchat.\n",
    "Questions we Investigate:\n",
    "- Which organization spends the most on snapchat ads?\n",
    "- Which organization serves the most different ads? \n",
    "- Which gender is more targeted? \n",
    "- Are ads served to by organizations to countries that they aren't based in? If so, what countries serve them? Which countries are they served to? Which country served the most of this type of ad?\n",
    "\n",
    "### Cleaning and EDA\n",
    "3. We added \"DollarPerView\" which is Spend/Impressions, \"Year\" which is the year that the ad was served in, and \"Country\" which is the country from the billing address of the organization serving the ad. We answered the question above about cross-serving, finding countries that cross-served, countries that were cross-served to & the names of the organizations that do this. Further, we imputed the Gender column with Both for Nans to reflect the implication of the Nan value\n",
    "\n",
    "### Assessment of Missingness\n",
    "4. For all of the missingness tests, we set a = .01 as the significance level. We looked at the segments column, which we think is not NMAR because segments end up targeting criteria used within the ad to determine other data. Using permutation tests, we found it is MAR dependent on: Spend, Impressions, CountryCode & EndDate. Each of these was as significant as can be: a pvalue of 0 for all. It is not MAR dependent with respect to LocationType from the given data.\n",
    "\n",
    "### Hypothesis Test\n",
    "5. Is it more expensive to get ad views in the US during election years? (I would expect that ads are pricier for election years) In this case, the null hypothesis is that these observations (ad spends) are drawn from the same distribution. The alternative, is that ads are more expensive in election years. We chose a = .01 as the significance level (so that only extremely significant results will conclude reject), KS as the test statistic (since difference of means was inconclusive). We got a p-value of 0 which implies we reject the null hypothesis. That is, political ad views on snapchat are more expensive in election years.\n",
    "\n",
    "### Conclusion\n",
    "6. If we had data on interactions with ads, we would be able to use this to get a more accurate idea than the DollarPerView gives us of what advertisers are paying for. Further, if we had more information on users (who saw what, whether they interacted & data about them) we would be able to do a more in-depth analysis of the ads. For example, if we knew how long people were on an ad, we would be able to determine whether users read the ad, whether they were idle when it came up or other such insights."
   ]
  },
  {
   "cell_type": "markdown",
   "metadata": {},
   "source": [
    "# Code"
   ]
  },
  {
   "cell_type": "code",
   "execution_count": 2,
   "metadata": {},
   "outputs": [],
   "source": [
    "import matplotlib.pyplot as plt\n",
    "import numpy as np\n",
    "import os\n",
    "import pycountry \n",
    "import requests\n",
    "import pandas as pd\n",
    "import seaborn as sns\n",
    "%matplotlib inline\n",
    "%config InlineBackend.figure_format = 'retina'  # Higher resolution figures\n"
   ]
  },
  {
   "cell_type": "code",
   "execution_count": 3,
   "metadata": {},
   "outputs": [],
   "source": [
    "import bs4\n"
   ]
  },
  {
   "cell_type": "markdown",
   "metadata": {},
   "source": [
    "### Cleaning and EDA"
   ]
  },
  {
   "cell_type": "code",
   "execution_count": 30,
   "metadata": {},
   "outputs": [
    {
     "data": {
      "text/plain": [
       "array(['Provided by Advertiser', nan], dtype=object)"
      ]
     },
     "execution_count": 30,
     "metadata": {},
     "output_type": "execute_result"
    }
   ],
   "source": [
    "#read the files into dataframes\n",
    "df_18 = pd.read_csv(\"PoliticalAds_18.csv\")\n",
    "df_19 = pd.read_csv(\"PoliticalAds_19.csv\")\n",
    "#adding a year column to both 18 and 19 dataframe that contains the year for every political ad\n",
    "df_18 = df_18.assign(**{\"Year\": 18})\n",
    "df_19 = df_19.assign(**{\"Year\": 19})\n",
    "#concated the two years of information into one dataframe\n",
    "catted_df = pd.concat([df_18, df_19])\n",
    "#grabbed the countries from the mailing address and made a new column with this data\n",
    "catted_df = catted_df.assign(**{\"Country\": catted_df['BillingAddress'].apply(lambda x: x[-2:])})\n",
    "#converted the StartDate and EndDate to datetime objects in UTC time to be later used in our analysis\n",
    "catted_df = catted_df.assign(**{\"StartDate\": pd.to_datetime(catted_df['StartDate'], infer_datetime_format = True)})\n",
    "catted_df = catted_df.assign(**{\"EndDate\": pd.to_datetime(catted_df['EndDate'], infer_datetime_format = True)})\n",
    "#found the dollar per view of all the ads\n",
    "catted_df = catted_df.assign(**{\"DollarPerView\": catted_df['Spend'] / catted_df['Impressions']})\n",
    "# impute gender column with 'BOTH' to symbolize that this ad targets both genders\n",
    "catted_df['Gender_Filled'] = catted_df['Gender'].fillna('BOTH')\n",
    "catted_df[\"Segments\"].unique()"
   ]
  },
  {
   "cell_type": "markdown",
   "metadata": {},
   "source": [
    "It looks like part of this dataset is missing: some of the ads payed way more per view, this is probably because they had a higher click-through rate than the other ads. Generally, there is a small charge to show users an ad & a much higher charge if they interact with that ad. However, there is no data in the dataset that tells us why this may be."
   ]
  },
  {
   "cell_type": "code",
   "execution_count": 129,
   "metadata": {},
   "outputs": [
    {
     "data": {
      "text/plain": [
       "7"
      ]
     },
     "execution_count": 129,
     "metadata": {},
     "output_type": "execute_result"
    }
   ],
   "source": [
    "num_ads_served_to = len(catted_df[\"CountryCode\"].unique())\n",
    "num_ads_served_by = len(catted_df[\"Country\"].unique())\n",
    "#bs4.BeautifulSoup(requests.get(df[\"CreativeUrl\"][1]).text)#.prettify()\n",
    "num_served_to_but_not_by = num_ads_served_to - num_ads_served_by\n",
    "num_served_to_but_not_by\n",
    "#This line gives the number of countries that were served to, but not by\n"
   ]
  },
  {
   "cell_type": "markdown",
   "metadata": {},
   "source": [
    "That's interesting: at least 7 countries are getting political ads served by another country. Let's figure out which countries are getting ads, but not serving them. Also, let's figure out how many such ads there are"
   ]
  },
  {
   "cell_type": "code",
   "execution_count": 107,
   "metadata": {},
   "outputs": [
    {
     "data": {
      "text/plain": [
       "105"
      ]
     },
     "execution_count": 107,
     "metadata": {},
     "output_type": "execute_result"
    }
   ],
   "source": [
    "serving = catted_df[\"CountryCode\"].unique()\n",
    "catted_df = catted_df.assign(**{\"Country\": catted_df[\"Country\"].apply(lambda x: pycountry.countries.get(alpha_2=x).name.lower())})\n",
    "#This line turns the country code (ie US) to the lower case name of the associated country (ie united states)\n",
    "ads_served_outside = catted_df[\"Country\"] != catted_df[\"CountryCode\"]\n",
    "#This line compares the Country to the CountryCode, where Country is the Country of the mailing address \n",
    "#(where the ad is being served from) & the CountryCode is the where the ad is served to\n",
    "ads_served_outside.sum()\n",
    "#This line gives us the number of ads where the country of location targeted does not match the country of serving\n"
   ]
  },
  {
   "cell_type": "markdown",
   "metadata": {},
   "source": [
    "This line gives all of the countries that were served ads by a group based in another country"
   ]
  },
  {
   "cell_type": "code",
   "execution_count": 35,
   "metadata": {},
   "outputs": [
    {
     "data": {
      "text/html": [
       "<div>\n",
       "<style scoped>\n",
       "    .dataframe tbody tr th:only-of-type {\n",
       "        vertical-align: middle;\n",
       "    }\n",
       "\n",
       "    .dataframe tbody tr th {\n",
       "        vertical-align: top;\n",
       "    }\n",
       "\n",
       "    .dataframe thead th {\n",
       "        text-align: right;\n",
       "    }\n",
       "</style>\n",
       "<table border=\"1\" class=\"dataframe\">\n",
       "  <thead>\n",
       "    <tr style=\"text-align: right;\">\n",
       "      <th></th>\n",
       "      <th>ADID</th>\n",
       "      <th>CreativeUrl</th>\n",
       "      <th>Spend</th>\n",
       "      <th>Impressions</th>\n",
       "      <th>StartDate</th>\n",
       "      <th>EndDate</th>\n",
       "      <th>OrganizationName</th>\n",
       "      <th>BillingAddress</th>\n",
       "      <th>CandidateBallotInformation</th>\n",
       "      <th>PayingAdvertiserName</th>\n",
       "      <th>...</th>\n",
       "      <th>Language</th>\n",
       "      <th>AdvancedDemographics</th>\n",
       "      <th>Targeting Connection Type</th>\n",
       "      <th>Targeting Carrier (ISP)</th>\n",
       "      <th>Targeting Geo - Postal Code</th>\n",
       "      <th>CreativeProperties</th>\n",
       "      <th>Year</th>\n",
       "      <th>Country</th>\n",
       "      <th>DollarPerView</th>\n",
       "      <th>Gender_Filled</th>\n",
       "    </tr>\n",
       "  </thead>\n",
       "  <tbody>\n",
       "    <tr>\n",
       "      <th>0</th>\n",
       "      <td>91db2796a80472ed8c2bfa17760b3ce1471f6ec1f3147b...</td>\n",
       "      <td>https://www.snap.com/political-ads/asset/b2c47...</td>\n",
       "      <td>1044</td>\n",
       "      <td>137185</td>\n",
       "      <td>2018-10-30 17:45:51</td>\n",
       "      <td>2018-11-07 00:00:00</td>\n",
       "      <td>GMMB, Inc</td>\n",
       "      <td>3050 K Street,Washington,20007,US</td>\n",
       "      <td>NaN</td>\n",
       "      <td>JB for Governor</td>\n",
       "      <td>...</td>\n",
       "      <td>NaN</td>\n",
       "      <td>NaN</td>\n",
       "      <td>NaN</td>\n",
       "      <td>NaN</td>\n",
       "      <td>NaN</td>\n",
       "      <td>web_view_url:https://iwillvote.com/?state=il</td>\n",
       "      <td>18</td>\n",
       "      <td>US</td>\n",
       "      <td>0.007610</td>\n",
       "      <td>BOTH</td>\n",
       "    </tr>\n",
       "    <tr>\n",
       "      <th>1</th>\n",
       "      <td>97e3f17d5ec164c454a35d2822734482ca60be3f3af310...</td>\n",
       "      <td>https://www.snap.com/political-ads/asset/affc7...</td>\n",
       "      <td>279</td>\n",
       "      <td>94161</td>\n",
       "      <td>2018-12-23 14:26:52</td>\n",
       "      <td>2018-12-28 14:28:06</td>\n",
       "      <td>Revolution Messaging</td>\n",
       "      <td>1730 Rhode Island Ave NW,Washington,20036,US</td>\n",
       "      <td>NaN</td>\n",
       "      <td>Paid for by ReBuild USA</td>\n",
       "      <td>...</td>\n",
       "      <td>NaN</td>\n",
       "      <td>NaN</td>\n",
       "      <td>NaN</td>\n",
       "      <td>NaN</td>\n",
       "      <td>NaN</td>\n",
       "      <td>web_view_url:https://rebuildusa.info/landing-3</td>\n",
       "      <td>18</td>\n",
       "      <td>US</td>\n",
       "      <td>0.002963</td>\n",
       "      <td>BOTH</td>\n",
       "    </tr>\n",
       "    <tr>\n",
       "      <th>2</th>\n",
       "      <td>14535fea019a9b1a910a77ce1555af8bdedbb5c78fb60a...</td>\n",
       "      <td>https://www.snap.com/political-ads/asset/754f6...</td>\n",
       "      <td>6743</td>\n",
       "      <td>3149886</td>\n",
       "      <td>2018-10-06 01:11:41</td>\n",
       "      <td>2018-11-07 03:00:00</td>\n",
       "      <td>Lockwood Strategy</td>\n",
       "      <td>US</td>\n",
       "      <td>NaN</td>\n",
       "      <td>Change Now</td>\n",
       "      <td>...</td>\n",
       "      <td>NaN</td>\n",
       "      <td>NaN</td>\n",
       "      <td>NaN</td>\n",
       "      <td>NaN</td>\n",
       "      <td>NaN</td>\n",
       "      <td>web_view_url:https://action.socalhealthcarecoa...</td>\n",
       "      <td>18</td>\n",
       "      <td>US</td>\n",
       "      <td>0.002141</td>\n",
       "      <td>BOTH</td>\n",
       "    </tr>\n",
       "    <tr>\n",
       "      <th>3</th>\n",
       "      <td>10b64550ad4a23c651d7883746cabeac93cbd92d5f3b3f...</td>\n",
       "      <td>https://www.snap.com/political-ads/asset/818ae...</td>\n",
       "      <td>3698</td>\n",
       "      <td>573475</td>\n",
       "      <td>2018-11-02 16:20:57</td>\n",
       "      <td>2018-11-06 18:15:30</td>\n",
       "      <td>The Prosper Group</td>\n",
       "      <td>435 E. Main,Greenwood,46143,US</td>\n",
       "      <td>NaN</td>\n",
       "      <td>No On L</td>\n",
       "      <td>...</td>\n",
       "      <td>NaN</td>\n",
       "      <td>NaN</td>\n",
       "      <td>NaN</td>\n",
       "      <td>NaN</td>\n",
       "      <td>92801,92802,92803,92804,92805,92806,92807,9280...</td>\n",
       "      <td>web_view_url:https://www.stopmeasurel.com</td>\n",
       "      <td>18</td>\n",
       "      <td>US</td>\n",
       "      <td>0.006448</td>\n",
       "      <td>BOTH</td>\n",
       "    </tr>\n",
       "    <tr>\n",
       "      <th>4</th>\n",
       "      <td>2438786c60ae41cf56614885b415a72857bbfb5c06f760...</td>\n",
       "      <td>https://www.snap.com/political-ads/asset/2c264...</td>\n",
       "      <td>445</td>\n",
       "      <td>232906</td>\n",
       "      <td>2018-11-27 21:44:19</td>\n",
       "      <td>2019-01-13 21:43:53</td>\n",
       "      <td>Amnesty International UK</td>\n",
       "      <td>17-25 New Inn Yard,London,EC2A 3EA,GB</td>\n",
       "      <td>NaN</td>\n",
       "      <td>Amnesty International UK</td>\n",
       "      <td>...</td>\n",
       "      <td>NaN</td>\n",
       "      <td>NaN</td>\n",
       "      <td>NaN</td>\n",
       "      <td>NaN</td>\n",
       "      <td>NaN</td>\n",
       "      <td>web_view_url:https://www.amnesty.org.uk/write-...</td>\n",
       "      <td>18</td>\n",
       "      <td>GB</td>\n",
       "      <td>0.001911</td>\n",
       "      <td>BOTH</td>\n",
       "    </tr>\n",
       "  </tbody>\n",
       "</table>\n",
       "<p>5 rows × 31 columns</p>\n",
       "</div>"
      ],
      "text/plain": [
       "                                                ADID  \\\n",
       "0  91db2796a80472ed8c2bfa17760b3ce1471f6ec1f3147b...   \n",
       "1  97e3f17d5ec164c454a35d2822734482ca60be3f3af310...   \n",
       "2  14535fea019a9b1a910a77ce1555af8bdedbb5c78fb60a...   \n",
       "3  10b64550ad4a23c651d7883746cabeac93cbd92d5f3b3f...   \n",
       "4  2438786c60ae41cf56614885b415a72857bbfb5c06f760...   \n",
       "\n",
       "                                         CreativeUrl  Spend  Impressions  \\\n",
       "0  https://www.snap.com/political-ads/asset/b2c47...   1044       137185   \n",
       "1  https://www.snap.com/political-ads/asset/affc7...    279        94161   \n",
       "2  https://www.snap.com/political-ads/asset/754f6...   6743      3149886   \n",
       "3  https://www.snap.com/political-ads/asset/818ae...   3698       573475   \n",
       "4  https://www.snap.com/political-ads/asset/2c264...    445       232906   \n",
       "\n",
       "            StartDate             EndDate          OrganizationName  \\\n",
       "0 2018-10-30 17:45:51 2018-11-07 00:00:00                 GMMB, Inc   \n",
       "1 2018-12-23 14:26:52 2018-12-28 14:28:06      Revolution Messaging   \n",
       "2 2018-10-06 01:11:41 2018-11-07 03:00:00         Lockwood Strategy   \n",
       "3 2018-11-02 16:20:57 2018-11-06 18:15:30         The Prosper Group   \n",
       "4 2018-11-27 21:44:19 2019-01-13 21:43:53  Amnesty International UK   \n",
       "\n",
       "                                 BillingAddress CandidateBallotInformation  \\\n",
       "0             3050 K Street,Washington,20007,US                        NaN   \n",
       "1  1730 Rhode Island Ave NW,Washington,20036,US                        NaN   \n",
       "2                                            US                        NaN   \n",
       "3                435 E. Main,Greenwood,46143,US                        NaN   \n",
       "4         17-25 New Inn Yard,London,EC2A 3EA,GB                        NaN   \n",
       "\n",
       "       PayingAdvertiserName  ... Language AdvancedDemographics  \\\n",
       "0           JB for Governor  ...      NaN                  NaN   \n",
       "1   Paid for by ReBuild USA  ...      NaN                  NaN   \n",
       "2                Change Now  ...      NaN                  NaN   \n",
       "3                   No On L  ...      NaN                  NaN   \n",
       "4  Amnesty International UK  ...      NaN                  NaN   \n",
       "\n",
       "  Targeting Connection Type Targeting Carrier (ISP)  \\\n",
       "0                       NaN                     NaN   \n",
       "1                       NaN                     NaN   \n",
       "2                       NaN                     NaN   \n",
       "3                       NaN                     NaN   \n",
       "4                       NaN                     NaN   \n",
       "\n",
       "                         Targeting Geo - Postal Code  \\\n",
       "0                                                NaN   \n",
       "1                                                NaN   \n",
       "2                                                NaN   \n",
       "3  92801,92802,92803,92804,92805,92806,92807,9280...   \n",
       "4                                                NaN   \n",
       "\n",
       "                                  CreativeProperties Year Country  \\\n",
       "0       web_view_url:https://iwillvote.com/?state=il   18      US   \n",
       "1     web_view_url:https://rebuildusa.info/landing-3   18      US   \n",
       "2  web_view_url:https://action.socalhealthcarecoa...   18      US   \n",
       "3          web_view_url:https://www.stopmeasurel.com   18      US   \n",
       "4  web_view_url:https://www.amnesty.org.uk/write-...   18      GB   \n",
       "\n",
       "  DollarPerView Gender_Filled  \n",
       "0      0.007610          BOTH  \n",
       "1      0.002963          BOTH  \n",
       "2      0.002141          BOTH  \n",
       "3      0.006448          BOTH  \n",
       "4      0.001911          BOTH  \n",
       "\n",
       "[5 rows x 31 columns]"
      ]
     },
     "execution_count": 35,
     "metadata": {},
     "output_type": "execute_result"
    }
   ],
   "source": [
    "catted_df.head()#[\"PayingAdvertiserName\"].unique()#.loc[ads_served_outside][\"CountryCode\"].unique()\n"
   ]
  },
  {
   "cell_type": "markdown",
   "metadata": {},
   "source": [
    "This line gives us the number of times that an ad was served by a country to another country, by country"
   ]
  },
  {
   "cell_type": "code",
   "execution_count": 139,
   "metadata": {},
   "outputs": [
    {
     "data": {
      "text/html": [
       "<div>\n",
       "<style scoped>\n",
       "    .dataframe tbody tr th:only-of-type {\n",
       "        vertical-align: middle;\n",
       "    }\n",
       "\n",
       "    .dataframe tbody tr th {\n",
       "        vertical-align: top;\n",
       "    }\n",
       "\n",
       "    .dataframe thead th {\n",
       "        text-align: right;\n",
       "    }\n",
       "</style>\n",
       "<table border=\"1\" class=\"dataframe\">\n",
       "  <thead>\n",
       "    <tr style=\"text-align: right;\">\n",
       "      <th></th>\n",
       "      <th>CountryCode</th>\n",
       "    </tr>\n",
       "    <tr>\n",
       "      <th>Country</th>\n",
       "      <th></th>\n",
       "    </tr>\n",
       "  </thead>\n",
       "  <tbody>\n",
       "    <tr>\n",
       "      <th>AE</th>\n",
       "      <td>4</td>\n",
       "    </tr>\n",
       "    <tr>\n",
       "      <th>AU</th>\n",
       "      <td>5</td>\n",
       "    </tr>\n",
       "    <tr>\n",
       "      <th>BE</th>\n",
       "      <td>5</td>\n",
       "    </tr>\n",
       "    <tr>\n",
       "      <th>CA</th>\n",
       "      <td>10</td>\n",
       "    </tr>\n",
       "    <tr>\n",
       "      <th>FR</th>\n",
       "      <td>1</td>\n",
       "    </tr>\n",
       "  </tbody>\n",
       "</table>\n",
       "</div>"
      ],
      "text/plain": [
       "         CountryCode\n",
       "Country             \n",
       "AE                 4\n",
       "AU                 5\n",
       "BE                 5\n",
       "CA                10\n",
       "FR                 1"
      ]
     },
     "execution_count": 139,
     "metadata": {},
     "output_type": "execute_result"
    }
   ],
   "source": [
    "outside_ad_counts = catted_df.loc[ads_served_outside][[\"Country\",\"CountryCode\"]].groupby(\"Country\").count()\n",
    "outside_ad_counts.head()\n"
   ]
  },
  {
   "cell_type": "markdown",
   "metadata": {},
   "source": [
    "This line gives the country that served the most out of country political ads on snapchat, no surprise that it's the \n",
    "wealthiest country in the history of the world"
   ]
  },
  {
   "cell_type": "code",
   "execution_count": 119,
   "metadata": {},
   "outputs": [
    {
     "data": {
      "text/plain": [
       "CountryCode    united states\n",
       "dtype: object"
      ]
     },
     "execution_count": 119,
     "metadata": {},
     "output_type": "execute_result"
    }
   ],
   "source": [
    "outside_ad_counts.idxmax()\n"
   ]
  },
  {
   "cell_type": "markdown",
   "metadata": {},
   "source": [
    "This line gives the names of organizations that serve ads outside of the country in which they are based"
   ]
  },
  {
   "cell_type": "code",
   "execution_count": 121,
   "metadata": {},
   "outputs": [
    {
     "data": {
      "text/plain": [
       "array(['Sponge Limited', 'LPM', 'Gorran Election Campaign', 'Fianna Fáil',\n",
       "       'Tubemogul, Inc.', 'Stratos Developments Ltd.',\n",
       "       'International Fund for Animal Welfare',\n",
       "       'Middle Enterprises Pty Ltd', 'MMD Digital Solutions',\n",
       "       'Avaaz Foundation', 'Ogilvy Group SA-NV', 'ItAllCounts Pty Ltd',\n",
       "       'Ken Kinneen Limited', 'FTI Consulting LLP', 'MediaCom Canada',\n",
       "       'Assembly', 'GLSEN', 'Timm & Pimm', 'Innsikt - Eniro Norge AS',\n",
       "       'Open Mind Developments Corporation Inc.', 'YaaBuddy Ads',\n",
       "       'Bates Pan Gulf', 'Socialyse (EUR)'], dtype=object)"
      ]
     },
     "execution_count": 121,
     "metadata": {},
     "output_type": "execute_result"
    }
   ],
   "source": [
    "catted_df.loc[ads_served_outside][\"OrganizationName\"].unique()\n"
   ]
  },
  {
   "cell_type": "markdown",
   "metadata": {},
   "source": [
    "From this, we were able to find the organization that had the most amount of money to spend on ads given by advertisers -> General Mills"
   ]
  },
  {
   "cell_type": "code",
   "execution_count": 141,
   "metadata": {},
   "outputs": [
    {
     "data": {
      "text/plain": [
       "OrganizationName\n",
       "General Mills                                  1092004\n",
       "Cossette Media Inc                              509636\n",
       "Assembly                                        444497\n",
       "Mediavest Spark                                 223088\n",
       "Australian Government Department of Finance     210000\n",
       "Name: Spend, dtype: int64"
      ]
     },
     "execution_count": 141,
     "metadata": {},
     "output_type": "execute_result"
    }
   ],
   "source": [
    "catted_df.groupby('OrganizationName')['Spend'].sum().sort_values(ascending=False).head()\n"
   ]
  },
  {
   "cell_type": "markdown",
   "metadata": {},
   "source": [
    "From this, we were able to find the organization that created the most amount of snapchat ads -> UnRestrict Minnesota "
   ]
  },
  {
   "cell_type": "code",
   "execution_count": 127,
   "metadata": {},
   "outputs": [
    {
     "data": {
      "text/plain": [
       "OrganizationName\n",
       "UnRestrict Minnesota     297\n",
       "Blueprint Interactive    235\n",
       "The Aber Group           197\n",
       "ACRONYM                  182\n",
       "Chong and Koster         163\n",
       "Name: ADID, dtype: int64"
      ]
     },
     "execution_count": 127,
     "metadata": {},
     "output_type": "execute_result"
    }
   ],
   "source": [
    "catted_df.groupby('OrganizationName')['ADID'].count().sort_values(ascending=False).head()\n"
   ]
  },
  {
   "cell_type": "markdown",
   "metadata": {},
   "source": [
    "While the most amount of money was spent on ads that applied to both genders, more ad money was spent targeting females than males."
   ]
  },
  {
   "cell_type": "code",
   "execution_count": 158,
   "metadata": {},
   "outputs": [
    {
     "data": {
      "text/html": [
       "<div>\n",
       "<style scoped>\n",
       "    .dataframe tbody tr th:only-of-type {\n",
       "        vertical-align: middle;\n",
       "    }\n",
       "\n",
       "    .dataframe tbody tr th {\n",
       "        vertical-align: top;\n",
       "    }\n",
       "\n",
       "    .dataframe thead th {\n",
       "        text-align: right;\n",
       "    }\n",
       "</style>\n",
       "<table border=\"1\" class=\"dataframe\">\n",
       "  <thead>\n",
       "    <tr style=\"text-align: right;\">\n",
       "      <th></th>\n",
       "      <th>Spend</th>\n",
       "    </tr>\n",
       "    <tr>\n",
       "      <th>Gender_Filled</th>\n",
       "      <th></th>\n",
       "    </tr>\n",
       "  </thead>\n",
       "  <tbody>\n",
       "    <tr>\n",
       "      <th>BOTH</th>\n",
       "      <td>4952290</td>\n",
       "    </tr>\n",
       "    <tr>\n",
       "      <th>FEMALE</th>\n",
       "      <td>165205</td>\n",
       "    </tr>\n",
       "    <tr>\n",
       "      <th>MALE</th>\n",
       "      <td>49271</td>\n",
       "    </tr>\n",
       "  </tbody>\n",
       "</table>\n",
       "</div>"
      ],
      "text/plain": [
       "                 Spend\n",
       "Gender_Filled         \n",
       "BOTH           4952290\n",
       "FEMALE          165205\n",
       "MALE             49271"
      ]
     },
     "execution_count": 158,
     "metadata": {},
     "output_type": "execute_result"
    }
   ],
   "source": [
    "pd.DataFrame(catted_df.groupby('Gender_Filled')['Spend'].sum())\n"
   ]
  },
  {
   "cell_type": "markdown",
   "metadata": {},
   "source": [
    "### Assessment of Missingness\n",
    "For the sake of ease, assume a significance level of a = .01"
   ]
  },
  {
   "cell_type": "code",
   "execution_count": 140,
   "metadata": {
    "ExecuteTime": {
     "end_time": "2019-10-31T23:36:28.662099Z",
     "start_time": "2019-10-31T23:36:28.660016Z"
    }
   },
   "outputs": [
    {
     "data": {
      "text/plain": [
       "{'ADID': 1.0,\n",
       " 'CreativeUrl': 1.0,\n",
       " 'Spend': 1.0,\n",
       " 'Impressions': 1.0,\n",
       " 'StartDate': 1.0,\n",
       " 'EndDate': 0.8013926733272783,\n",
       " 'OrganizationName': 1.0,\n",
       " 'BillingAddress': 1.0,\n",
       " 'CandidateBallotInformation': 0.0681198910081744,\n",
       " 'PayingAdvertiserName': 1.0,\n",
       " 'Gender': 0.09748713290947623,\n",
       " 'AgeBracket': 0.917045110505601,\n",
       " 'CountryCode': 1.0,\n",
       " 'RegionID': 0.3066908870723585,\n",
       " 'ElectoralDistrictID': 0.019679079624583713,\n",
       " 'LatLongRad': 0.0,\n",
       " 'MetroID': 0.05449591280653951,\n",
       " 'Interests': 0.23796548592188918,\n",
       " 'OsType': 0.006357856494096276,\n",
       " 'Segments': 0.66273085074175,\n",
       " 'LocationType': 0.005449591280653951,\n",
       " 'Language': 0.27671813502876175,\n",
       " 'AdvancedDemographics': 0.029064486830154404,\n",
       " 'Targeting Connection Type': 0.0,\n",
       " 'Targeting Carrier (ISP)': 0.0,\n",
       " 'Targeting Geo - Postal Code': 0.12079927338782924,\n",
       " 'CreativeProperties': 0.8041174689676052,\n",
       " 'Year': 1.0,\n",
       " 'Country': 1.0,\n",
       " 'DollarPerView': 1.0}"
      ]
     },
     "execution_count": 140,
     "metadata": {},
     "output_type": "execute_result"
    }
   ],
   "source": [
    "props = {}\n",
    "#Iterate through columns\n",
    "for col in catted_df.columns:\n",
    "    #Find the total length of the column\n",
    "    tot = len(catted_df[col])\n",
    "    #Find the number of non-null values\n",
    "    non_null = len(catted_df[col].dropna())\n",
    "    #Calculate the proportion of non-nulls & put it in a dic for later use\n",
    "    props[col] = (non_null / tot)\n",
    "props\n",
    "#This is the proportion of non-null values for each column\n"
   ]
  },
  {
   "cell_type": "markdown",
   "metadata": {},
   "source": [
    "We want to see if Segments is MAR dependent on Spend"
   ]
  },
  {
   "cell_type": "code",
   "execution_count": 142,
   "metadata": {},
   "outputs": [
    {
     "data": {
      "image/png": "[encoded data removed]",
      "text/plain": [
       "<Figure size 432x288 with 1 Axes>"
      ]
     },
     "metadata": {
      "image/png": {
       "height": 263,
       "width": 382
      },
      "needs_background": "light"
     },
     "output_type": "display_data"
    }
   ],
   "source": [
    "# This makes a column with booleans corresponding to the missingess of Segments, True if nan. I also select only \n",
    "#columns that will be used in the test, reducing the compuational load. This will be done for all subsequent tests\n",
    "mdf = catted_df.assign(**{\"SegMissing\": catted_df[\"Segments\"].isnull()})[[\"Spend\", \"SegMissing\"]]\n",
    "#Calculate the observed ks\n",
    "obsks, _ = ks_2samp(\n",
    "    mdf.loc[mdf['SegMissing'], 'Spend'],\n",
    "    mdf.loc[~mdf['SegMissing'], 'Spend']\n",
    ")\n",
    "n_repetitions = 500\n",
    "kslist = []\n",
    "for _ in range(n_repetitions):\n",
    "    \n",
    "    # shuffle the Spend\n",
    "    shuffled_spend = (\n",
    "        mdf['Spend']\n",
    "        .sample(replace=False, frac=1)\n",
    "        .reset_index(drop=True)\n",
    "    )\n",
    "    \n",
    "    # Throw it into a df\n",
    "    shuffled = (\n",
    "        mdf\n",
    "        .assign(**{'ShuffledSpend': shuffled_spend})\n",
    "    )\n",
    "    #compute test stat\n",
    "    ks, _ = ks_2samp(\n",
    "        shuffled.loc[shuffled['SegMissing'], 'ShuffledSpend'],\n",
    "        shuffled.loc[~shuffled['SegMissing'], 'ShuffledSpend']\n",
    "    )\n",
    "    # add it to the list of results\n",
    "    kslist.append(ks)\n",
    "#Visualize the results\n",
    "pd.Series(kslist).plot(kind='hist', density=True, alpha=0.8, title = \"Conclusion of SegMissing on Spend\")\n",
    "plt.scatter(obsks, 0, color='red', s=40);\n"
   ]
  },
  {
   "cell_type": "markdown",
   "metadata": {},
   "source": [
    "This permutation test tells us that segments are MAR dependent on Spend. Next, we will use the difference of means to determine whether Segments is MAR dependent on Impression"
   ]
  },
  {
   "cell_type": "code",
   "execution_count": 143,
   "metadata": {},
   "outputs": [
    {
     "data": {
      "image/png": "[encoded data removed]",
      "text/plain": [
       "<Figure size 432x288 with 1 Axes>"
      ]
     },
     "metadata": {
      "image/png": {
       "height": 263,
       "width": 382
      },
      "needs_background": "light"
     },
     "output_type": "display_data"
    }
   ],
   "source": [
    "mdf = catted_df.assign(**{\"SegMissing\": catted_df[\"Segments\"].isnull()})[[\"Impressions\", \"SegMissing\"]]\n",
    "#mdf.groupby(\"SegMissing\").Spend.plot(kind = \"kde\", title = \"Distribution of Spend by missingness of segs\");\n",
    "#Calculate the observed ks\n",
    "obsks, _ = ks_2samp(\n",
    "    mdf.loc[mdf['SegMissing'], 'Impressions'],\n",
    "    mdf.loc[~mdf['SegMissing'], 'Impressions']\n",
    ")\n",
    "n_repetitions = 500\n",
    "kslist = []\n",
    "for _ in range(n_repetitions):\n",
    "    \n",
    "    # shuffle the Impressions\n",
    "    shuffled_imp = (\n",
    "        mdf['Impressions']\n",
    "        .sample(replace=False, frac=1)\n",
    "        .reset_index(drop=True)\n",
    "    )\n",
    "    \n",
    "    # Throw it into a df\n",
    "    shuffled = (\n",
    "        mdf\n",
    "        .assign(**{'ShuffledImpressions': shuffled_imp})\n",
    "    )\n",
    "    #compute test stat\n",
    "    ks, _ = ks_2samp(\n",
    "        shuffled.loc[shuffled['SegMissing'], 'ShuffledImpressions'],\n",
    "        shuffled.loc[~shuffled['SegMissing'], 'ShuffledImpressions']\n",
    "    )\n",
    "    # add it to the list of results\n",
    "    kslist.append(ks)\n",
    "#Visualize the results\n",
    "pd.Series(kslist).plot(kind='hist', density=True, alpha=0.8, title = \"Conclusion of SegMissing on Impressions\")\n",
    "plt.scatter(obsks, 0, color='red', s=40);\n"
   ]
  },
  {
   "cell_type": "markdown",
   "metadata": {},
   "source": [
    "This tells us that segments are MAR dependent on Impressions"
   ]
  },
  {
   "cell_type": "markdown",
   "metadata": {},
   "source": [
    "Is the Segments MAR dependent on Country?\n"
   ]
  },
  {
   "cell_type": "code",
   "execution_count": 59,
   "metadata": {},
   "outputs": [],
   "source": [
    "df = catted_df.assign(**{\"SegMissing\": catted_df[\"Segments\"].isnull()})[[\"SegMissing\", \"CountryCode\"]]\n"
   ]
  },
  {
   "cell_type": "code",
   "execution_count": 56,
   "metadata": {},
   "outputs": [],
   "source": [
    "n_repetitions = 500\n",
    "\n",
    "tvds = []\n",
    "for _ in range(n_repetitions):\n",
    "    \n",
    "    # shuffle the CountryCode column\n",
    "    shuffled_col = (\n",
    "        df['CountryCode']\n",
    "        .sample(replace=False, frac=1)\n",
    "        .reset_index(drop=True)\n",
    "    )\n",
    "    \n",
    "    # put them in a table\n",
    "    shuffled = (\n",
    "        df\n",
    "        .assign(**{\n",
    "            'CountryCode': shuffled_col\n",
    "        })\n",
    "    )\n",
    "    \n",
    "    # compute the tvd\n",
    "    shuffled = (\n",
    "        shuffled\n",
    "        .pivot_table(index='SegMissing', columns='CountryCode', aggfunc='size')\n",
    "        .apply(lambda x:x / x.sum(), axis=1)\n",
    "    )\n",
    "    \n",
    "    tvd = shuffled.diff().iloc[-1].abs().sum() / 2\n",
    "    # add it to the list of results\n",
    "    \n",
    "    tvds.append(tvd)\n",
    "    "
   ]
  },
  {
   "cell_type": "code",
   "execution_count": 58,
   "metadata": {},
   "outputs": [
    {
     "data": {
      "image/png": "[encoded data removed]",
      "text/plain": [
       "<Figure size 432x288 with 1 Axes>"
      ]
     },
     "metadata": {
      "image/png": {
       "height": 263,
       "width": 382
      },
      "needs_background": "light"
     },
     "output_type": "display_data"
    }
   ],
   "source": [
    "distr = (\n",
    "    df\n",
    "    .pivot_table(index='SegMissing', columns='CountryCode', aggfunc='size')\n",
    "    .apply(lambda x:x / x.sum(), axis=1)\n",
    ")\n",
    "obs = distr.diff().iloc[-1].abs().sum() / 2\n",
    "#Calculate the observed test stat\n",
    "pval = np.mean(tvds > obs)\n",
    "#Calculate pval & plot the result of the hypothesis test\n",
    "pd.Series(tvds).plot(kind='hist', density=True, alpha=0.8, title='p-value: %f' % pval)\n",
    "plt.scatter(obs, 0, color='red', s=40);\n"
   ]
  },
  {
   "cell_type": "markdown",
   "metadata": {},
   "source": [
    "This test concludes that Segments is MAR dependent on CountryCode. Are the Segments MAR dependent on EndDate?"
   ]
  },
  {
   "cell_type": "code",
   "execution_count": 62,
   "metadata": {},
   "outputs": [],
   "source": [
    "df = catted_df.assign(**{\"SegMissing\": catted_df[\"Segments\"].isnull()})[[\"SegMissing\", \"EndDate\"]]\n"
   ]
  },
  {
   "cell_type": "code",
   "execution_count": 63,
   "metadata": {},
   "outputs": [],
   "source": [
    "n_repetitions = 500\n",
    "tvds = []\n",
    "for _ in range(n_repetitions):\n",
    "    \n",
    "    # shuffle the EndDate column\n",
    "    shuffled_col = (\n",
    "        df['EndDate']\n",
    "        .sample(replace=False, frac=1)\n",
    "        .reset_index(drop=True)\n",
    "    )\n",
    "    \n",
    "    # put them in a table\n",
    "    shuffled = (\n",
    "        df\n",
    "        .assign(**{\n",
    "            'EndDate': shuffled_col\n",
    "        })\n",
    "    )\n",
    "    \n",
    "    # compute the tvd\n",
    "    shuffled = (\n",
    "        shuffled\n",
    "        .pivot_table(index='SegMissing', columns='EndDate', aggfunc='size')\n",
    "        .apply(lambda x:x / x.sum(), axis=1)\n",
    "    )\n",
    "    \n",
    "    tvd = shuffled.diff().iloc[-1].abs().sum() / 2\n",
    "    # add it to the list of results\n",
    "    \n",
    "    tvds.append(tvd)\n",
    "    "
   ]
  },
  {
   "cell_type": "code",
   "execution_count": 66,
   "metadata": {},
   "outputs": [
    {
     "data": {
      "image/png": "[encoded data removed]",
      "text/plain": [
       "<Figure size 432x288 with 1 Axes>"
      ]
     },
     "metadata": {
      "image/png": {
       "height": 263,
       "width": 382
      },
      "needs_background": "light"
     },
     "output_type": "display_data"
    }
   ],
   "source": [
    "distr = (\n",
    "    df\n",
    "    .pivot_table(index='SegMissing', columns='EndDate', aggfunc='size')\n",
    "    .apply(lambda x:x / x.sum(), axis=1)\n",
    ")\n",
    "obs = distr.diff().iloc[-1].abs().sum() / 2\n",
    "#Calculate the observed test stat\n",
    "pval = np.mean(tvds > obs)\n",
    "pd.Series(tvds).plot(kind='hist', density=True, alpha=0.8, title='p-value: %f' % pval)\n",
    "plt.scatter(obs, 0, color='red', s=40);\n"
   ]
  },
  {
   "cell_type": "markdown",
   "metadata": {},
   "source": [
    "This test tells us that Segments are MAR dependent on EndDate. I will now try it on LocationType"
   ]
  },
  {
   "cell_type": "code",
   "execution_count": 68,
   "metadata": {},
   "outputs": [],
   "source": [
    "df = catted_df.assign(**{\"SegMissing\": catted_df[\"Segments\"].isnull()})[[\"SegMissing\", \"LocationType\"]]\n"
   ]
  },
  {
   "cell_type": "code",
   "execution_count": 69,
   "metadata": {},
   "outputs": [],
   "source": [
    "n_repetitions = 500\n",
    "tvds = []\n",
    "for _ in range(n_repetitions):\n",
    "    \n",
    "    # shuffle the LocationType column\n",
    "    shuffled_col = (\n",
    "        df['LocationType']\n",
    "        .sample(replace=False, frac=1)\n",
    "        .reset_index(drop=True)\n",
    "    )\n",
    "    \n",
    "    # put them in a table\n",
    "    shuffled = (\n",
    "        df\n",
    "        .assign(**{\n",
    "            'LocationType': shuffled_col\n",
    "        })\n",
    "    )\n",
    "    \n",
    "    # compute the tvd\n",
    "    shuffled = (\n",
    "        shuffled\n",
    "        .pivot_table(index='SegMissing', columns='LocationType', aggfunc='size')\n",
    "        .apply(lambda x:x / x.sum(), axis=1)\n",
    "    )\n",
    "    \n",
    "    tvd = shuffled.diff().iloc[-1].abs().sum() / 2\n",
    "    # add it to the list of results\n",
    "    \n",
    "    tvds.append(tvd)\n",
    "    "
   ]
  },
  {
   "cell_type": "code",
   "execution_count": 70,
   "metadata": {},
   "outputs": [
    {
     "data": {
      "image/png": "[encoded data removed]",
      "text/plain": [
       "<Figure size 432x288 with 1 Axes>"
      ]
     },
     "metadata": {
      "image/png": {
       "height": 263,
       "width": 376
      },
      "needs_background": "light"
     },
     "output_type": "display_data"
    }
   ],
   "source": [
    "distr = (\n",
    "    df\n",
    "    .pivot_table(index='SegMissing', columns='LocationType', aggfunc='size')\n",
    "    .apply(lambda x:x / x.sum(), axis=1)\n",
    ")\n",
    "obs = distr.diff().iloc[-1].abs().sum() / 2\n",
    "#Calculate the observed test stat\n",
    "pval = np.mean(tvds > obs)\n",
    "#Calculate the pvalue & plot the results of the hypothesis test\n",
    "pd.Series(tvds).plot(kind='hist', density=True, alpha=0.8, title='p-value: %f' % pval)\n",
    "plt.scatter(obs, 0, color='red', s=40);\n"
   ]
  },
  {
   "cell_type": "markdown",
   "metadata": {},
   "source": [
    "This tells us that Segments are not dependent on LocationType. (Please note that LocationType is only non-null in ~ .5% of cases, so this is not a very significant result)"
   ]
  },
  {
   "cell_type": "markdown",
   "metadata": {},
   "source": [
    "### Hypothesis Test\n",
    "For the sake of ease, assume a significance level of a = .01"
   ]
  },
  {
   "cell_type": "markdown",
   "metadata": {
    "ExecuteTime": {
     "end_time": "2019-10-31T23:36:28.666489Z",
     "start_time": "2019-10-31T23:36:28.664381Z"
    }
   },
   "source": [
    "For our hypothesis test, we are looking within the US across years to determine whether or not the cost of spending per view varies between midterm election years versus nonelection years. In this case, the null hypothesis is that these observations (ad spends) are drawn from the same distribution. The alternative, that they are not."
   ]
  },
  {
   "cell_type": "code",
   "execution_count": 48,
   "metadata": {},
   "outputs": [],
   "source": [
    "us_df = catted_df.query(\"Country == 'US'\")\n",
    "#Limit the dataframe to the US\n",
    "us_df = us_df.assign(**{\"ElectionYear\":us_df[\"Year\"].apply(lambda x: True if x == 18 else False)})\n",
    "#Assign booleans to whether or not it was a national election year\n"
   ]
  },
  {
   "cell_type": "code",
   "execution_count": 46,
   "metadata": {},
   "outputs": [
    {
     "data": {
      "text/plain": [
       "0.776"
      ]
     },
     "execution_count": 46,
     "metadata": {},
     "output_type": "execute_result"
    }
   ],
   "source": [
    "trials = 1000\n",
    "#Permutation test using absolute difference of means\n",
    "outliers = 0\n",
    "#limit the numbers to ones within the US\n",
    "obs = us_df.groupby(\"Year\")[\"DollarPerView\"].mean().diff().abs()[19]\n",
    "# Calculate observed difference of means\n",
    "us_df = us_df[[\"DollarPerView\", \"Year\"]]\n",
    "doms = []\n",
    "for _ in range(trials):\n",
    "    #shuffle relevant values\n",
    "    shuffled = us_df.sample(frac=1,replace=False).reset_index(drop=True)[\"DollarPerView\"]\n",
    "    #assign the shuffleds to a df\n",
    "    samp = us_df.assign(**{\"DollarPerView\":shuffled})\n",
    "    test_stat = samp.groupby(\"Year\")[\"DollarPerView\"].mean().diff().abs()[19]\n",
    "    #This calculates the abs diff of means of the sample\n",
    "    doms.append(test_stat)\n",
    "    #Making a list of mean diffs, for plotting\n",
    "    if test_stat <= obs:\n",
    "        #Count outliers to calc pval\n",
    "        outliers += 1\n",
    "outliers/trials\n"
   ]
  },
  {
   "cell_type": "code",
   "execution_count": 152,
   "metadata": {},
   "outputs": [
    {
     "data": {
      "image/png": "[encoded data removed]",
      "text/plain": [
       "<Figure size 432x288 with 1 Axes>"
      ]
     },
     "metadata": {
      "image/png": {
       "height": 263,
       "width": 399
      },
      "needs_background": "light"
     },
     "output_type": "display_data"
    }
   ],
   "source": [
    "pd.Series(doms).plot(kind='hist', density=True, alpha=0.8)\n",
    "#Visualizing the results of diff of means permutation test\n",
    "plt.scatter(obs, 0, color='red', s=40);#.set_title(\"Diff of means\");\n",
    "plt.title(\"Diff of means\");\n"
   ]
  },
  {
   "cell_type": "markdown",
   "metadata": {},
   "source": [
    "So difference of means does not give me a statistically significant result, \n",
    "let's see if this was because the test stat fails to pick up the difference, \n",
    "or they really are drawn from the same distribution"
   ]
  },
  {
   "cell_type": "code",
   "execution_count": 157,
   "metadata": {},
   "outputs": [
    {
     "data": {
      "text/plain": [
       "0.0"
      ]
     },
     "execution_count": 157,
     "metadata": {},
     "output_type": "execute_result"
    }
   ],
   "source": [
    "from scipy.stats import ks_2samp\n",
    "ks = []\n",
    "oks, _ = ks_2samp(us_df.loc[us_df[\"ElectionYear\"], \"DollarPerView\"], us_df.loc[~us_df[\"ElectionYear\"], \"DollarPerView\"])\n",
    "# Permutation test using the ks_stat\n",
    "for _ in range(trials):\n",
    "    #shuffle relevant values\n",
    "    shuffled = us_df.sample(frac=1,replace=False).reset_index(drop=True)[\"DollarPerView\"]\n",
    "    #put the shuffleds into a df\n",
    "    samp = us_df.assign(**{\"DollarPerView\":shuffled})\n",
    "    #compute the test statistic\n",
    "    tks, _ = ks_2samp(samp.loc[samp[\"ElectionYear\"], \"DollarPerView\"],samp.loc[~samp[\"ElectionYear\"], \"DollarPerView\"])\n",
    "    #add it to a list of test_stats for plotting\n",
    "    ks.append(tks)\n",
    "np.count_nonzero(np.array(ks) <= oks) / len(ks)\n",
    "#This gives the pval of this test\n"
   ]
  },
  {
   "cell_type": "code",
   "execution_count": 156,
   "metadata": {},
   "outputs": [
    {
     "data": {
      "image/png": "[encoded data removed]",
      "text/plain": [
       "<Figure size 432x288 with 1 Axes>"
      ]
     },
     "metadata": {
      "image/png": {
       "height": 263,
       "width": 388
      },
      "needs_background": "light"
     },
     "output_type": "display_data"
    }
   ],
   "source": [
    "pd.Series(ks).plot(kind='hist', density=True, alpha=0.8)\n",
    "# Visualize the result of ks permutation test\n",
    "plt.scatter(oks, 0, color='red', s=40);\n",
    "plt.title(\"KS perm test\");\n"
   ]
  },
  {
   "cell_type": "markdown",
   "metadata": {},
   "source": [
    "Using the ks-statistic, we see that these are not drawn from the same distribution. That is, DollarPerView is higher in election years than non-election years"
   ]
  }
 ],
 "metadata": {
  "kernelspec": {
   "display_name": "Python 3",
   "language": "python",
   "name": "python3"
  },
  "language_info": {
   "codemirror_mode": {
    "name": "ipython",
    "version": 3
   },
   "file_extension": ".py",
   "mimetype": "text/x-python",
   "name": "python",
   "nbconvert_exporter": "python",
   "pygments_lexer": "ipython3",
   "version": "3.7.4"
  }
 },
 "nbformat": 4,
 "nbformat_minor": 2
}
